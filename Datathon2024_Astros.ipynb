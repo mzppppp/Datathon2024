{
 "cells": [
  {
   "cell_type": "code",
   "execution_count": 50,
   "id": "04b57b20",
   "metadata": {},
   "outputs": [],
   "source": [
    "import pandas as pd\n",
    "import numpy as np\n",
    "import matplotlib.pyplot as plt\n",
    "from datetime import datetime"
   ]
  },
  {
   "cell_type": "code",
   "execution_count": 32,
   "id": "826fff27",
   "metadata": {},
   "outputs": [
    {
     "data": {
      "text/html": [
       "<div>\n",
       "<style scoped>\n",
       "    .dataframe tbody tr th:only-of-type {\n",
       "        vertical-align: middle;\n",
       "    }\n",
       "\n",
       "    .dataframe tbody tr th {\n",
       "        vertical-align: top;\n",
       "    }\n",
       "\n",
       "    .dataframe thead th {\n",
       "        text-align: right;\n",
       "    }\n",
       "</style>\n",
       "<table border=\"1\" class=\"dataframe\">\n",
       "  <thead>\n",
       "    <tr style=\"text-align: right;\">\n",
       "      <th></th>\n",
       "      <th>Unnamed: 0</th>\n",
       "      <th>game_date</th>\n",
       "      <th>home_team</th>\n",
       "      <th>away_team</th>\n",
       "      <th>is_day_game</th>\n",
       "      <th>home_score</th>\n",
       "      <th>away_score</th>\n",
       "      <th>venue</th>\n",
       "      <th>venue_name</th>\n",
       "      <th>city</th>\n",
       "      <th>...</th>\n",
       "      <th>away_hbp</th>\n",
       "      <th>home_pa</th>\n",
       "      <th>home_1b</th>\n",
       "      <th>home_2b</th>\n",
       "      <th>home_3b</th>\n",
       "      <th>home_hr</th>\n",
       "      <th>home_fo</th>\n",
       "      <th>home_so</th>\n",
       "      <th>home_bb</th>\n",
       "      <th>home_hbp</th>\n",
       "    </tr>\n",
       "  </thead>\n",
       "  <tbody>\n",
       "    <tr>\n",
       "      <th>0</th>\n",
       "      <td>0</td>\n",
       "      <td>20000329</td>\n",
       "      <td>NYN</td>\n",
       "      <td>CHN</td>\n",
       "      <td>False</td>\n",
       "      <td>3</td>\n",
       "      <td>5</td>\n",
       "      <td>TOK01</td>\n",
       "      <td>Tokyo Dome</td>\n",
       "      <td>Tokyo</td>\n",
       "      <td>...</td>\n",
       "      <td>1</td>\n",
       "      <td>38</td>\n",
       "      <td>5</td>\n",
       "      <td>1</td>\n",
       "      <td>0</td>\n",
       "      <td>1</td>\n",
       "      <td>24</td>\n",
       "      <td>4</td>\n",
       "      <td>3</td>\n",
       "      <td>0</td>\n",
       "    </tr>\n",
       "    <tr>\n",
       "      <th>1</th>\n",
       "      <td>1</td>\n",
       "      <td>20000330</td>\n",
       "      <td>CHN</td>\n",
       "      <td>NYN</td>\n",
       "      <td>False</td>\n",
       "      <td>1</td>\n",
       "      <td>5</td>\n",
       "      <td>TOK01</td>\n",
       "      <td>Tokyo Dome</td>\n",
       "      <td>Tokyo</td>\n",
       "      <td>...</td>\n",
       "      <td>1</td>\n",
       "      <td>44</td>\n",
       "      <td>5</td>\n",
       "      <td>0</td>\n",
       "      <td>0</td>\n",
       "      <td>0</td>\n",
       "      <td>24</td>\n",
       "      <td>9</td>\n",
       "      <td>6</td>\n",
       "      <td>0</td>\n",
       "    </tr>\n",
       "    <tr>\n",
       "      <th>2</th>\n",
       "      <td>2</td>\n",
       "      <td>20000403</td>\n",
       "      <td>ATL</td>\n",
       "      <td>COL</td>\n",
       "      <td>True</td>\n",
       "      <td>2</td>\n",
       "      <td>0</td>\n",
       "      <td>ATL02</td>\n",
       "      <td>Turner Field</td>\n",
       "      <td>Atlanta</td>\n",
       "      <td>...</td>\n",
       "      <td>0</td>\n",
       "      <td>32</td>\n",
       "      <td>5</td>\n",
       "      <td>0</td>\n",
       "      <td>0</td>\n",
       "      <td>2</td>\n",
       "      <td>17</td>\n",
       "      <td>6</td>\n",
       "      <td>1</td>\n",
       "      <td>1</td>\n",
       "    </tr>\n",
       "    <tr>\n",
       "      <th>3</th>\n",
       "      <td>3</td>\n",
       "      <td>20000403</td>\n",
       "      <td>CIN</td>\n",
       "      <td>MIL</td>\n",
       "      <td>True</td>\n",
       "      <td>3</td>\n",
       "      <td>3</td>\n",
       "      <td>CIN08</td>\n",
       "      <td>Cinergy Field</td>\n",
       "      <td>Cincinnati</td>\n",
       "      <td>...</td>\n",
       "      <td>0</td>\n",
       "      <td>20</td>\n",
       "      <td>3</td>\n",
       "      <td>1</td>\n",
       "      <td>0</td>\n",
       "      <td>1</td>\n",
       "      <td>10</td>\n",
       "      <td>4</td>\n",
       "      <td>1</td>\n",
       "      <td>0</td>\n",
       "    </tr>\n",
       "    <tr>\n",
       "      <th>4</th>\n",
       "      <td>4</td>\n",
       "      <td>20000403</td>\n",
       "      <td>FLO</td>\n",
       "      <td>SFN</td>\n",
       "      <td>False</td>\n",
       "      <td>6</td>\n",
       "      <td>4</td>\n",
       "      <td>MIA01</td>\n",
       "      <td>Sun Life Stadium</td>\n",
       "      <td>Miami</td>\n",
       "      <td>...</td>\n",
       "      <td>0</td>\n",
       "      <td>38</td>\n",
       "      <td>9</td>\n",
       "      <td>3</td>\n",
       "      <td>0</td>\n",
       "      <td>0</td>\n",
       "      <td>17</td>\n",
       "      <td>7</td>\n",
       "      <td>1</td>\n",
       "      <td>1</td>\n",
       "    </tr>\n",
       "  </tbody>\n",
       "</table>\n",
       "<p>5 rows × 29 columns</p>\n",
       "</div>"
      ],
      "text/plain": [
       "   Unnamed: 0  game_date home_team away_team  is_day_game  home_score  \\\n",
       "0           0   20000329       NYN       CHN        False           3   \n",
       "1           1   20000330       CHN       NYN        False           1   \n",
       "2           2   20000403       ATL       COL         True           2   \n",
       "3           3   20000403       CIN       MIL         True           3   \n",
       "4           4   20000403       FLO       SFN        False           6   \n",
       "\n",
       "   away_score  venue        venue_name        city  ... away_hbp  home_pa  \\\n",
       "0           5  TOK01        Tokyo Dome       Tokyo  ...        1       38   \n",
       "1           5  TOK01        Tokyo Dome       Tokyo  ...        1       44   \n",
       "2           0  ATL02      Turner Field     Atlanta  ...        0       32   \n",
       "3           3  CIN08     Cinergy Field  Cincinnati  ...        0       20   \n",
       "4           4  MIA01  Sun Life Stadium       Miami  ...        0       38   \n",
       "\n",
       "   home_1b  home_2b  home_3b  home_hr  home_fo  home_so  home_bb  home_hbp  \n",
       "0        5        1        0        1       24        4        3         0  \n",
       "1        5        0        0        0       24        9        6         0  \n",
       "2        5        0        0        2       17        6        1         1  \n",
       "3        3        1        0        1       10        4        1         0  \n",
       "4        9        3        0        0       17        7        1         1  \n",
       "\n",
       "[5 rows x 29 columns]"
      ]
     },
     "execution_count": 32,
     "metadata": {},
     "output_type": "execute_result"
    }
   ],
   "source": [
    "df = pd.read_csv(\"datathon_2024_dataset_corrected.csv\")\n",
    "df.head()"
   ]
  },
  {
   "cell_type": "code",
   "execution_count": 33,
   "id": "b0adc5fd",
   "metadata": {},
   "outputs": [
    {
     "data": {
      "text/plain": [
       "Index(['Unnamed: 0', 'game_date', 'home_team', 'away_team', 'is_day_game',\n",
       "       'home_score', 'away_score', 'venue', 'venue_name', 'city', 'state',\n",
       "       'away_pa', 'away_1b', 'away_2b', 'away_3b', 'away_hr', 'away_fo',\n",
       "       'away_so', 'away_bb', 'away_hbp', 'home_pa', 'home_1b', 'home_2b',\n",
       "       'home_3b', 'home_hr', 'home_fo', 'home_so', 'home_bb', 'home_hbp'],\n",
       "      dtype='object')"
      ]
     },
     "execution_count": 33,
     "metadata": {},
     "output_type": "execute_result"
    }
   ],
   "source": [
    "df.columns"
   ]
  },
  {
   "cell_type": "code",
   "execution_count": 34,
   "id": "b1590870",
   "metadata": {},
   "outputs": [
    {
     "data": {
      "text/plain": [
       "array(['NYN', 'CHN', 'ATL', 'CIN', 'FLO', 'MON', 'SLN', 'ANA', 'BAL',\n",
       "       'MIN', 'OAK', 'TEX', 'TOR', 'ARI', 'PIT', 'SEA', 'HOU', 'KCA',\n",
       "       'TBA', 'COL', 'MIL', 'PHI', 'SDN', 'SFN', 'BOS', 'DET', 'NYA',\n",
       "       'LAN', 'CHA', 'CLE', 'WAS', 'MIA'], dtype=object)"
      ]
     },
     "execution_count": 34,
     "metadata": {},
     "output_type": "execute_result"
    }
   ],
   "source": [
    "df[\"home_team\"].unique()"
   ]
  },
  {
   "cell_type": "code",
   "execution_count": 35,
   "id": "d8accc93",
   "metadata": {},
   "outputs": [
    {
     "data": {
      "text/html": [
       "<div>\n",
       "<style scoped>\n",
       "    .dataframe tbody tr th:only-of-type {\n",
       "        vertical-align: middle;\n",
       "    }\n",
       "\n",
       "    .dataframe tbody tr th {\n",
       "        vertical-align: top;\n",
       "    }\n",
       "\n",
       "    .dataframe thead th {\n",
       "        text-align: right;\n",
       "    }\n",
       "</style>\n",
       "<table border=\"1\" class=\"dataframe\">\n",
       "  <thead>\n",
       "    <tr style=\"text-align: right;\">\n",
       "      <th></th>\n",
       "      <th>Unnamed: 0</th>\n",
       "      <th>game_date</th>\n",
       "      <th>home_team</th>\n",
       "      <th>away_team</th>\n",
       "      <th>is_day_game</th>\n",
       "      <th>home_score</th>\n",
       "      <th>away_score</th>\n",
       "      <th>venue</th>\n",
       "      <th>venue_name</th>\n",
       "      <th>city</th>\n",
       "      <th>...</th>\n",
       "      <th>away_hbp</th>\n",
       "      <th>home_pa</th>\n",
       "      <th>home_1b</th>\n",
       "      <th>home_2b</th>\n",
       "      <th>home_3b</th>\n",
       "      <th>home_hr</th>\n",
       "      <th>home_fo</th>\n",
       "      <th>home_so</th>\n",
       "      <th>home_bb</th>\n",
       "      <th>home_hbp</th>\n",
       "    </tr>\n",
       "  </thead>\n",
       "  <tbody>\n",
       "    <tr>\n",
       "      <th>57</th>\n",
       "      <td>57</td>\n",
       "      <td>20000407</td>\n",
       "      <td>HOU</td>\n",
       "      <td>PHI</td>\n",
       "      <td>False</td>\n",
       "      <td>1</td>\n",
       "      <td>4</td>\n",
       "      <td>HOU03</td>\n",
       "      <td>Minute Maid Park</td>\n",
       "      <td>Houston</td>\n",
       "      <td>...</td>\n",
       "      <td>0</td>\n",
       "      <td>32</td>\n",
       "      <td>4</td>\n",
       "      <td>0</td>\n",
       "      <td>0</td>\n",
       "      <td>1</td>\n",
       "      <td>20</td>\n",
       "      <td>5</td>\n",
       "      <td>2</td>\n",
       "      <td>0</td>\n",
       "    </tr>\n",
       "    <tr>\n",
       "      <th>72</th>\n",
       "      <td>72</td>\n",
       "      <td>20000408</td>\n",
       "      <td>HOU</td>\n",
       "      <td>PHI</td>\n",
       "      <td>True</td>\n",
       "      <td>8</td>\n",
       "      <td>5</td>\n",
       "      <td>HOU03</td>\n",
       "      <td>Minute Maid Park</td>\n",
       "      <td>Houston</td>\n",
       "      <td>...</td>\n",
       "      <td>1</td>\n",
       "      <td>38</td>\n",
       "      <td>6</td>\n",
       "      <td>1</td>\n",
       "      <td>2</td>\n",
       "      <td>2</td>\n",
       "      <td>19</td>\n",
       "      <td>5</td>\n",
       "      <td>3</td>\n",
       "      <td>0</td>\n",
       "    </tr>\n",
       "    <tr>\n",
       "      <th>87</th>\n",
       "      <td>87</td>\n",
       "      <td>20000409</td>\n",
       "      <td>HOU</td>\n",
       "      <td>PHI</td>\n",
       "      <td>True</td>\n",
       "      <td>2</td>\n",
       "      <td>3</td>\n",
       "      <td>HOU03</td>\n",
       "      <td>Minute Maid Park</td>\n",
       "      <td>Houston</td>\n",
       "      <td>...</td>\n",
       "      <td>0</td>\n",
       "      <td>37</td>\n",
       "      <td>4</td>\n",
       "      <td>1</td>\n",
       "      <td>0</td>\n",
       "      <td>0</td>\n",
       "      <td>18</td>\n",
       "      <td>7</td>\n",
       "      <td>6</td>\n",
       "      <td>1</td>\n",
       "    </tr>\n",
       "    <tr>\n",
       "      <th>99</th>\n",
       "      <td>99</td>\n",
       "      <td>20000410</td>\n",
       "      <td>HOU</td>\n",
       "      <td>SLN</td>\n",
       "      <td>False</td>\n",
       "      <td>7</td>\n",
       "      <td>8</td>\n",
       "      <td>HOU03</td>\n",
       "      <td>Minute Maid Park</td>\n",
       "      <td>Houston</td>\n",
       "      <td>...</td>\n",
       "      <td>1</td>\n",
       "      <td>36</td>\n",
       "      <td>2</td>\n",
       "      <td>1</td>\n",
       "      <td>0</td>\n",
       "      <td>4</td>\n",
       "      <td>18</td>\n",
       "      <td>7</td>\n",
       "      <td>3</td>\n",
       "      <td>1</td>\n",
       "    </tr>\n",
       "    <tr>\n",
       "      <th>107</th>\n",
       "      <td>107</td>\n",
       "      <td>20000411</td>\n",
       "      <td>HOU</td>\n",
       "      <td>SLN</td>\n",
       "      <td>False</td>\n",
       "      <td>6</td>\n",
       "      <td>10</td>\n",
       "      <td>HOU03</td>\n",
       "      <td>Minute Maid Park</td>\n",
       "      <td>Houston</td>\n",
       "      <td>...</td>\n",
       "      <td>0</td>\n",
       "      <td>37</td>\n",
       "      <td>4</td>\n",
       "      <td>1</td>\n",
       "      <td>1</td>\n",
       "      <td>2</td>\n",
       "      <td>19</td>\n",
       "      <td>7</td>\n",
       "      <td>2</td>\n",
       "      <td>1</td>\n",
       "    </tr>\n",
       "    <tr>\n",
       "      <th>...</th>\n",
       "      <td>...</td>\n",
       "      <td>...</td>\n",
       "      <td>...</td>\n",
       "      <td>...</td>\n",
       "      <td>...</td>\n",
       "      <td>...</td>\n",
       "      <td>...</td>\n",
       "      <td>...</td>\n",
       "      <td>...</td>\n",
       "      <td>...</td>\n",
       "      <td>...</td>\n",
       "      <td>...</td>\n",
       "      <td>...</td>\n",
       "      <td>...</td>\n",
       "      <td>...</td>\n",
       "      <td>...</td>\n",
       "      <td>...</td>\n",
       "      <td>...</td>\n",
       "      <td>...</td>\n",
       "      <td>...</td>\n",
       "      <td>...</td>\n",
       "    </tr>\n",
       "    <tr>\n",
       "      <th>56610</th>\n",
       "      <td>56610</td>\n",
       "      <td>20230919</td>\n",
       "      <td>HOU</td>\n",
       "      <td>BAL</td>\n",
       "      <td>False</td>\n",
       "      <td>5</td>\n",
       "      <td>9</td>\n",
       "      <td>HOU03</td>\n",
       "      <td>Minute Maid Park</td>\n",
       "      <td>Houston</td>\n",
       "      <td>...</td>\n",
       "      <td>1</td>\n",
       "      <td>39</td>\n",
       "      <td>5</td>\n",
       "      <td>2</td>\n",
       "      <td>0</td>\n",
       "      <td>3</td>\n",
       "      <td>16</td>\n",
       "      <td>9</td>\n",
       "      <td>3</td>\n",
       "      <td>1</td>\n",
       "    </tr>\n",
       "    <tr>\n",
       "      <th>56625</th>\n",
       "      <td>56625</td>\n",
       "      <td>20230920</td>\n",
       "      <td>HOU</td>\n",
       "      <td>BAL</td>\n",
       "      <td>True</td>\n",
       "      <td>2</td>\n",
       "      <td>1</td>\n",
       "      <td>HOU03</td>\n",
       "      <td>Minute Maid Park</td>\n",
       "      <td>Houston</td>\n",
       "      <td>...</td>\n",
       "      <td>0</td>\n",
       "      <td>34</td>\n",
       "      <td>3</td>\n",
       "      <td>2</td>\n",
       "      <td>0</td>\n",
       "      <td>0</td>\n",
       "      <td>13</td>\n",
       "      <td>10</td>\n",
       "      <td>5</td>\n",
       "      <td>1</td>\n",
       "    </tr>\n",
       "    <tr>\n",
       "      <th>56649</th>\n",
       "      <td>56649</td>\n",
       "      <td>20230922</td>\n",
       "      <td>HOU</td>\n",
       "      <td>KCA</td>\n",
       "      <td>False</td>\n",
       "      <td>5</td>\n",
       "      <td>7</td>\n",
       "      <td>HOU03</td>\n",
       "      <td>Minute Maid Park</td>\n",
       "      <td>Houston</td>\n",
       "      <td>...</td>\n",
       "      <td>2</td>\n",
       "      <td>41</td>\n",
       "      <td>3</td>\n",
       "      <td>2</td>\n",
       "      <td>1</td>\n",
       "      <td>2</td>\n",
       "      <td>19</td>\n",
       "      <td>8</td>\n",
       "      <td>6</td>\n",
       "      <td>0</td>\n",
       "    </tr>\n",
       "    <tr>\n",
       "      <th>56663</th>\n",
       "      <td>56663</td>\n",
       "      <td>20230923</td>\n",
       "      <td>HOU</td>\n",
       "      <td>KCA</td>\n",
       "      <td>False</td>\n",
       "      <td>2</td>\n",
       "      <td>3</td>\n",
       "      <td>HOU03</td>\n",
       "      <td>Minute Maid Park</td>\n",
       "      <td>Houston</td>\n",
       "      <td>...</td>\n",
       "      <td>0</td>\n",
       "      <td>37</td>\n",
       "      <td>3</td>\n",
       "      <td>2</td>\n",
       "      <td>0</td>\n",
       "      <td>1</td>\n",
       "      <td>20</td>\n",
       "      <td>7</td>\n",
       "      <td>3</td>\n",
       "      <td>1</td>\n",
       "    </tr>\n",
       "    <tr>\n",
       "      <th>56678</th>\n",
       "      <td>56678</td>\n",
       "      <td>20230924</td>\n",
       "      <td>HOU</td>\n",
       "      <td>KCA</td>\n",
       "      <td>True</td>\n",
       "      <td>5</td>\n",
       "      <td>6</td>\n",
       "      <td>HOU03</td>\n",
       "      <td>Minute Maid Park</td>\n",
       "      <td>Houston</td>\n",
       "      <td>...</td>\n",
       "      <td>0</td>\n",
       "      <td>38</td>\n",
       "      <td>5</td>\n",
       "      <td>2</td>\n",
       "      <td>0</td>\n",
       "      <td>1</td>\n",
       "      <td>20</td>\n",
       "      <td>7</td>\n",
       "      <td>2</td>\n",
       "      <td>1</td>\n",
       "    </tr>\n",
       "  </tbody>\n",
       "</table>\n",
       "<p>1890 rows × 29 columns</p>\n",
       "</div>"
      ],
      "text/plain": [
       "       Unnamed: 0  game_date home_team away_team  is_day_game  home_score  \\\n",
       "57             57   20000407       HOU       PHI        False           1   \n",
       "72             72   20000408       HOU       PHI         True           8   \n",
       "87             87   20000409       HOU       PHI         True           2   \n",
       "99             99   20000410       HOU       SLN        False           7   \n",
       "107           107   20000411       HOU       SLN        False           6   \n",
       "...           ...        ...       ...       ...          ...         ...   \n",
       "56610       56610   20230919       HOU       BAL        False           5   \n",
       "56625       56625   20230920       HOU       BAL         True           2   \n",
       "56649       56649   20230922       HOU       KCA        False           5   \n",
       "56663       56663   20230923       HOU       KCA        False           2   \n",
       "56678       56678   20230924       HOU       KCA         True           5   \n",
       "\n",
       "       away_score  venue        venue_name     city  ... away_hbp  home_pa  \\\n",
       "57              4  HOU03  Minute Maid Park  Houston  ...        0       32   \n",
       "72              5  HOU03  Minute Maid Park  Houston  ...        1       38   \n",
       "87              3  HOU03  Minute Maid Park  Houston  ...        0       37   \n",
       "99              8  HOU03  Minute Maid Park  Houston  ...        1       36   \n",
       "107            10  HOU03  Minute Maid Park  Houston  ...        0       37   \n",
       "...           ...    ...               ...      ...  ...      ...      ...   \n",
       "56610           9  HOU03  Minute Maid Park  Houston  ...        1       39   \n",
       "56625           1  HOU03  Minute Maid Park  Houston  ...        0       34   \n",
       "56649           7  HOU03  Minute Maid Park  Houston  ...        2       41   \n",
       "56663           3  HOU03  Minute Maid Park  Houston  ...        0       37   \n",
       "56678           6  HOU03  Minute Maid Park  Houston  ...        0       38   \n",
       "\n",
       "       home_1b  home_2b  home_3b  home_hr  home_fo  home_so  home_bb  home_hbp  \n",
       "57           4        0        0        1       20        5        2         0  \n",
       "72           6        1        2        2       19        5        3         0  \n",
       "87           4        1        0        0       18        7        6         1  \n",
       "99           2        1        0        4       18        7        3         1  \n",
       "107          4        1        1        2       19        7        2         1  \n",
       "...        ...      ...      ...      ...      ...      ...      ...       ...  \n",
       "56610        5        2        0        3       16        9        3         1  \n",
       "56625        3        2        0        0       13       10        5         1  \n",
       "56649        3        2        1        2       19        8        6         0  \n",
       "56663        3        2        0        1       20        7        3         1  \n",
       "56678        5        2        0        1       20        7        2         1  \n",
       "\n",
       "[1890 rows x 29 columns]"
      ]
     },
     "execution_count": 35,
     "metadata": {},
     "output_type": "execute_result"
    }
   ],
   "source": [
    "df[df[\"home_team\"]==\"HOU\"]"
   ]
  },
  {
   "cell_type": "code",
   "execution_count": 36,
   "id": "7771a518",
   "metadata": {},
   "outputs": [],
   "source": [
    "home_home = {'win': 0, 'lose': 0, 'tie': 0}\n",
    "home_away = {'win': 0, 'lose': 0, 'tie': 0}\n",
    "away_home = {'win': 0, 'lose': 0, 'tie': 0}\n",
    "away_away = {'win': 0, 'lose': 0, 'tie': 0}\n",
    "astros = df[(df[\"home_team\"] == 'HOU') | (df[\"away_team\"] == 'HOU')]"
   ]
  },
  {
   "cell_type": "code",
   "execution_count": 37,
   "id": "85c509dc",
   "metadata": {},
   "outputs": [],
   "source": [
    "for i in range(len(astros)-1):\n",
    "    if astros.iloc[i]['home_team'] == 'HOU':\n",
    "        if astros.iloc[i+1]['home_team'] == 'HOU':\n",
    "            if astros.iloc[i+1]['home_score']>astros.iloc[i+1]['away_score']:\n",
    "                home_home['win']+=1;\n",
    "            elif astros.iloc[i+1]['home_score']<astros.iloc[i+1]['away_score']:\n",
    "                home_home['lose']+=1;\n",
    "            else:\n",
    "                home_home['tie']+=1;\n",
    "        else:\n",
    "            if astros.iloc[i+1]['home_score']<astros.iloc[i+1]['away_score']:\n",
    "                home_away['win']+=1;\n",
    "            elif astros.iloc[i+1]['home_score']>astros.iloc[i+1]['away_score']:\n",
    "                home_away['lose']+=1;\n",
    "            else:\n",
    "                home_away['tie']+=1;\n",
    "    elif astros.iloc[i]['away_team'] == 'HOU':\n",
    "        if astros.iloc[i+1]['home_team'] == 'HOU':\n",
    "            if astros.iloc[i+1]['home_score']>astros.iloc[i+1]['away_score']:\n",
    "                away_home['win']+=1;\n",
    "            elif astros.iloc[i+1]['home_score']<astros.iloc[i+1]['away_score']:\n",
    "                away_home['lose']+=1;\n",
    "            else:\n",
    "                away_home['tie']+=1;\n",
    "        else:\n",
    "            if astros.iloc[i+1]['home_score']<astros.iloc[i+1]['away_score']:\n",
    "                away_away['win']+=1;\n",
    "            elif astros.iloc[i+1]['home_score']>astros.iloc[i+1]['away_score']:\n",
    "                away_away['lose']+=1;\n",
    "            else:\n",
    "                away_away['tie']+=1;"
   ]
  },
  {
   "cell_type": "code",
   "execution_count": 38,
   "id": "2b34b68c",
   "metadata": {},
   "outputs": [
    {
     "data": {
      "text/plain": [
       "{'win': 884, 'lose': 721, 'tie': 0}"
      ]
     },
     "execution_count": 38,
     "metadata": {},
     "output_type": "execute_result"
    }
   ],
   "source": [
    "home_home"
   ]
  },
  {
   "cell_type": "code",
   "execution_count": 39,
   "id": "115274a2",
   "metadata": {},
   "outputs": [
    {
     "data": {
      "text/plain": [
       "{'win': 755, 'lose': 854, 'tie': 1}"
      ]
     },
     "execution_count": 39,
     "metadata": {},
     "output_type": "execute_result"
    }
   ],
   "source": [
    "away_away"
   ]
  },
  {
   "cell_type": "code",
   "execution_count": 40,
   "id": "290cccd6",
   "metadata": {},
   "outputs": [
    {
     "data": {
      "text/plain": [
       "{'win': 144, 'lose': 141, 'tie': 0}"
      ]
     },
     "execution_count": 40,
     "metadata": {},
     "output_type": "execute_result"
    }
   ],
   "source": [
    "home_away"
   ]
  },
  {
   "cell_type": "code",
   "execution_count": 41,
   "id": "d2515da0",
   "metadata": {},
   "outputs": [
    {
     "data": {
      "text/plain": [
       "{'win': 157, 'lose': 128, 'tie': 0}"
      ]
     },
     "execution_count": 41,
     "metadata": {},
     "output_type": "execute_result"
    }
   ],
   "source": [
    "away_home"
   ]
  },
  {
   "cell_type": "code",
   "execution_count": 42,
   "id": "21274b07",
   "metadata": {},
   "outputs": [],
   "source": [
    "win = [0]*home_home['win'] + [1]*home_away['win'] + [2]*away_home['win'] + [3]*away_away['win']\n",
    "lose = [0]*home_home['lose'] + [1]*home_away['lose'] + [2]*away_home['lose'] + [3]*away_away['lose']\n",
    "tie = [0]*home_home['tie'] + [1]*home_away['tie'] + [2]*away_home['tie'] + [3]*away_away['tie']\n",
    "hh_win = round(home_home['win']/sum(home_home.values()), 3)\n",
    "ha_win = round(home_away['win']/sum(home_away.values()), 3)\n",
    "ah_win = round(away_home['win']/sum(away_home.values()), 3)\n",
    "aa_win = round(away_away['win']/sum(away_away.values()), 3)"
   ]
  },
  {
   "cell_type": "code",
   "execution_count": 43,
   "id": "f379fb01",
   "metadata": {
    "scrolled": false
   },
   "outputs": [
    {
     "data": {
      "image/png": "[encoded data removed]",
      "text/plain": [
       "<Figure size 640x480 with 1 Axes>"
      ]
     },
     "metadata": {},
     "output_type": "display_data"
    }
   ],
   "source": [
    "plt.hist(win, alpha = 0.5, label = \"wins\")\n",
    "plt.hist(lose, alpha = 0.5, label = \"loses\")\n",
    "plt.hist(tie, alpha = 0.5, label = \"ties\")\n",
    "plt.legend()\n",
    "plt.xlabel(f'home-home:{hh_win} home-away:{ha_win} away-home:{ah_win} away-away:{aa_win}')\n",
    "plt.ylabel('number of games');"
   ]
  },
  {
   "cell_type": "markdown",
   "id": "3a609dbd",
   "metadata": {},
   "source": [
    "We have a first glimpse of the effect brought by travel between different cities. This is a diagram showing the winnning percentage of four situations of one team (using astros as example), astros have higher winning percentage in home-home and home-away situation, means that the players favor their home court in Houston, and we can also find out that the travel will affect the winning rate because the home-home games have the best record with the most games played."
   ]
  },
  {
   "cell_type": "code",
   "execution_count": 46,
   "id": "4764af23",
   "metadata": {},
   "outputs": [
    {
     "data": {
      "text/plain": [
       "Index(['game_date', 'home_team', 'away_team', 'is_day_game', 'home_score',\n",
       "       'away_score', 'venue', 'venue_name', 'city', 'state', 'away_pa',\n",
       "       'away_1b', 'away_2b', 'away_3b', 'away_hr', 'away_fo', 'away_so',\n",
       "       'away_bb', 'away_hbp', 'home_pa', 'home_1b', 'home_2b', 'home_3b',\n",
       "       'home_hr', 'home_fo', 'home_so', 'home_bb', 'home_hbp', 'year', 'month',\n",
       "       'day', 'home_win', 'away_win', 'days_since_last_home_game',\n",
       "       'days_since_last_away_game', 'last_home_opponent', 'last_away_opponent',\n",
       "       'home_distance', 'away_distance'],\n",
       "      dtype='object')"
      ]
     },
     "execution_count": 46,
     "metadata": {},
     "output_type": "execute_result"
    }
   ],
   "source": [
    "df1 = pd.read_csv(\"datathon_2024_dataset_cleaned.csv\")\n",
    "df1.columns"
   ]
  },
  {
   "cell_type": "code",
   "execution_count": 77,
   "id": "ab498ee9",
   "metadata": {},
   "outputs": [],
   "source": [
    "gamedate = []\n",
    "for i in range(len(df1)):\n",
    "    gamedate.append(datetime.strptime(df1['game_date'].values[i], '%Y-%m-%d'))"
   ]
  },
  {
   "cell_type": "code",
   "execution_count": 114,
   "id": "da0d3579",
   "metadata": {},
   "outputs": [],
   "source": [
    "year = list(np.arange(2000, 2024, 1))\n",
    "home_dist = np.zeros(24)\n",
    "away_dist = np.zeros(24)\n",
    "for i in range(len(gamedate)):\n",
    "    y = gamedate[i].year\n",
    "    home_dist[year.index(y)] += df1['home_distance'][i]\n",
    "    away_dist[year.index(y)] += df1['away_distance'][i]"
   ]
  },
  {
   "cell_type": "code",
   "execution_count": 139,
   "id": "cba90101",
   "metadata": {},
   "outputs": [
    {
     "data": {
      "text/plain": [
       "<matplotlib.legend.Legend at 0x220b6bfa260>"
      ]
     },
     "execution_count": 139,
     "metadata": {},
     "output_type": "execute_result"
    },
    {
     "data": {
      "image/png": "[encoded data removed]",
      "text/plain": [
       "<Figure size 640x480 with 1 Axes>"
      ]
     },
     "metadata": {},
     "output_type": "display_data"
    }
   ],
   "source": [
    "year = np.array(year)\n",
    "total_dist = home_dist + away_dist\n",
    "\n",
    "slope1, inter1 = np.polyfit(year[home_dist>3e6], home_dist[home_dist>3e6], 1)\n",
    "plt.plot(year[home_dist>3e6], slope1*year[home_dist>3e6] + inter1, label = f'trend for home team travel distance, slope = {round(slope1, 2)}')\n",
    "plt.scatter(year[home_dist>3e6], home_dist[home_dist>3e6], s = 10, label = 'home team travel distance')\n",
    "\n",
    "slope2, inter2 = np.polyfit(year[away_dist>3e6], away_dist[away_dist>3e6], 1)\n",
    "plt.plot(year[away_dist>3e6], slope2*year[away_dist>3e6] + inter2, label = f'trend for away team travel distance, slope = {round(slope2, 3)}')\n",
    "plt.scatter(year[away_dist>3e6], away_dist[away_dist>3e6], s = 10, label = 'away team travel distance')\n",
    "\n",
    "plt.xlabel('season')\n",
    "plt.ylabel('distance traveled')\n",
    "plt.legend()"
   ]
  },
  {
   "cell_type": "code",
   "execution_count": 140,
   "id": "51c98551",
   "metadata": {},
   "outputs": [
    {
     "data": {
      "text/plain": [
       "<matplotlib.legend.Legend at 0x220b6cb6650>"
      ]
     },
     "execution_count": 140,
     "metadata": {},
     "output_type": "execute_result"
    },
    {
     "data": {
      "image/png": "[encoded data removed]",
      "text/plain": [
       "<Figure size 640x480 with 1 Axes>"
      ]
     },
     "metadata": {},
     "output_type": "display_data"
    }
   ],
   "source": [
    "slope3, inter3 = np.polyfit(year[total_dist>3e6], total_dist[total_dist>3e6], 1)\n",
    "plt.plot(year[total_dist>3e6], slope3*year[total_dist>3e6] + inter3, label = f'trend for total travel distance, slope = {round(slope3, 2)}')\n",
    "plt.scatter(year[total_dist>3e6], total_dist[total_dist>3e6], s = 10, label = 'total travel distance')\n",
    "plt.xlabel('season')\n",
    "plt.ylabel('distance traveled')\n",
    "plt.legend()"
   ]
  },
  {
   "cell_type": "markdown",
   "id": "8c0291e1",
   "metadata": {},
   "source": [
    "from the travel distance vs season diagram we can interpret that the travel distance are not flactuating too much after taking away the shortenned season in year 2020. However the evolvement of the schedule is very clear because either the home team or the away team have decrease in total distance traveled hence the total distance traveled by all teams each season is also decreasing. The decrease in distance shows the schedule is getting better for the teams."
   ]
  }
 ],
 "metadata": {
  "kernelspec": {
   "display_name": "Python 3 (ipykernel)",
   "language": "python",
   "name": "python3"
  },
  "language_info": {
   "codemirror_mode": {
    "name": "ipython",
    "version": 3
   },
   "file_extension": ".py",
   "mimetype": "text/x-python",
   "name": "python",
   "nbconvert_exporter": "python",
   "pygments_lexer": "ipython3",
   "version": "3.10.9"
  }
 },
 "nbformat": 4,
 "nbformat_minor": 5
}
